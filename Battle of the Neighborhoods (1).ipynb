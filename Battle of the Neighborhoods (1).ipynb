{
 "cells": [
  {
   "cell_type": "markdown",
   "metadata": {
    "collapsed": true
   },
   "source": [
    "# Battle of Neighborhoods"
   ]
  },
  {
   "cell_type": "markdown",
   "metadata": {},
   "source": [
    "#### Introduction/Business Problem"
   ]
  },
  {
   "cell_type": "markdown",
   "metadata": {},
   "source": [
    "A client is looking to open an Italian Restaurant in the Sydney region. Given the cost of operating a restuarant and leasing a building in Sydney, he does not know which region in Sydney to look towards. With this problem, I'll be comparing the Central & Inner Metropolitan, North Shore and Northern Beaches of Sydney (which are far more costly) against the Western Suburbs, Parramatta-Hills District, South Western Suburbs, Outer Western Suburbs and Macarthur Region (which are cheaper but quite a fair distance away from Sydney). "
   ]
  },
  {
   "cell_type": "markdown",
   "metadata": {},
   "source": [
    "### Data"
   ]
  },
  {
   "cell_type": "markdown",
   "metadata": {},
   "source": [
    "I will be using the data from the excel file in the link:\n",
    "https://www.prospectshop.com.au/Files/SydneyMetro_Postcodes.xls\n",
    "\n",
    "I will use the Foursquare API to gather location information about the Sydney regions in the data to determine which areas will be more applicable to open an Italian restaurant in. I will be specifically looking for reviews in these regions as well as the quantity of other similar restaurants/competitors. "
   ]
  },
  {
   "cell_type": "code",
   "execution_count": null,
   "metadata": {},
   "outputs": [],
   "source": []
  }
 ],
 "metadata": {
  "kernelspec": {
   "display_name": "Python 3.6",
   "language": "python",
   "name": "python3"
  },
  "language_info": {
   "codemirror_mode": {
    "name": "ipython",
    "version": 3
   },
   "file_extension": ".py",
   "mimetype": "text/x-python",
   "name": "python",
   "nbconvert_exporter": "python",
   "pygments_lexer": "ipython3",
   "version": "3.6.8"
  }
 },
 "nbformat": 4,
 "nbformat_minor": 1
}
